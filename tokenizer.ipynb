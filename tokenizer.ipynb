{
 "cells": [
  {
   "cell_type": "code",
   "execution_count": 2,
   "id": "cb755935",
   "metadata": {},
   "outputs": [],
   "source": [
    "text = f'My name is Tanuj. Im learning data science using the build large language model book'"
   ]
  },
  {
   "cell_type": "code",
   "execution_count": 15,
   "id": "4756ef8a",
   "metadata": {},
   "outputs": [],
   "source": [
    "max_length=4\n",
    "stride=2\n",
    "txt = text.split(\" \")\n",
    "\n",
    "input_words = []\n",
    "output_words = []\n",
    "\n",
    "for i in range(0, len(txt)-max_length, stride):\n",
    "    input_words.append(txt[i: i+max_length])\n",
    "    output_words.append(txt[i+1: i+max_length+1])\n"
   ]
  },
  {
   "cell_type": "code",
   "execution_count": 16,
   "id": "1fe1c79d",
   "metadata": {},
   "outputs": [
    {
     "data": {
      "text/plain": [
       "[['My', 'name', 'is', 'Tanuj.'],\n",
       " ['is', 'Tanuj.', 'Im', 'learning'],\n",
       " ['Im', 'learning', 'data', 'science'],\n",
       " ['data', 'science', 'using', 'the'],\n",
       " ['using', 'the', 'build', 'large'],\n",
       " ['build', 'large', 'language', 'model']]"
      ]
     },
     "execution_count": 16,
     "metadata": {},
     "output_type": "execute_result"
    }
   ],
   "source": [
    "input_words"
   ]
  },
  {
   "cell_type": "code",
   "execution_count": 17,
   "id": "c264c067",
   "metadata": {},
   "outputs": [
    {
     "data": {
      "text/plain": [
       "[['name', 'is', 'Tanuj.', 'Im'],\n",
       " ['Tanuj.', 'Im', 'learning', 'data'],\n",
       " ['learning', 'data', 'science', 'using'],\n",
       " ['science', 'using', 'the', 'build'],\n",
       " ['the', 'build', 'large', 'language'],\n",
       " ['large', 'language', 'model', 'book']]"
      ]
     },
     "execution_count": 17,
     "metadata": {},
     "output_type": "execute_result"
    }
   ],
   "source": [
    "output_words"
   ]
  },
  {
   "cell_type": "code",
   "execution_count": null,
   "id": "075f7482",
   "metadata": {},
   "outputs": [],
   "source": []
  }
 ],
 "metadata": {
  "kernelspec": {
   "display_name": "base",
   "language": "python",
   "name": "python3"
  },
  "language_info": {
   "codemirror_mode": {
    "name": "ipython",
    "version": 3
   },
   "file_extension": ".py",
   "mimetype": "text/x-python",
   "name": "python",
   "nbconvert_exporter": "python",
   "pygments_lexer": "ipython3",
   "version": "3.10.9"
  }
 },
 "nbformat": 4,
 "nbformat_minor": 5
}
